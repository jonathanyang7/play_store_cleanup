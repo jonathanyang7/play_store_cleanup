{
 "cells": [
  {
   "cell_type": "markdown",
   "metadata": {},
   "source": [
    "## Importing data"
   ]
  },
  {
   "cell_type": "code",
   "execution_count": 1,
   "metadata": {},
   "outputs": [],
   "source": [
    "import pandas as pd\n",
    "import numpy as np"
   ]
  },
  {
   "cell_type": "code",
   "execution_count": 2,
   "metadata": {},
   "outputs": [],
   "source": [
    "df = pd.read_csv(\"googleplaystore.csv\")"
   ]
  },
  {
   "cell_type": "markdown",
   "metadata": {},
   "source": [
    "## Data cleaning"
   ]
  },
  {
   "cell_type": "markdown",
   "metadata": {},
   "source": [
    "#### Null values"
   ]
  },
  {
   "cell_type": "code",
   "execution_count": 3,
   "metadata": {},
   "outputs": [
    {
     "data": {
      "image/png": "[encoded data removed]",
      "text/plain": [
       "<Figure size 432x288 with 1 Axes>"
      ]
     },
     "metadata": {
      "needs_background": "light"
     },
     "output_type": "display_data"
    }
   ],
   "source": [
    "## Understand which columns have nulls\n",
    "df.isna().sum().sort_values(ascending=False)  \n",
    "df[\"Rating\"].plot(kind=\"box\") \n",
    "\n",
    "## Replace all invalid and null values with the mean rating\n",
    "df.loc[df[\"Rating\"]>5,\"Rating\"] = np.NaN\n",
    "mean_rating = df[\"Rating\"].mean()\n",
    "df.loc[df[\"Rating\"].isna(), \"Rating\"] = mean_rating\n",
    "\n",
    "# Drop all other NAs\n",
    "df.dropna(inplace=True)"
   ]
  },
  {
   "cell_type": "markdown",
   "metadata": {},
   "source": [
    "#### Data types"
   ]
  },
  {
   "cell_type": "code",
   "execution_count": 4,
   "metadata": {},
   "outputs": [],
   "source": [
    "df[\"Price\"] = pd.to_numeric(df[\"Price\"].str.replace(\"$\",\"\"))\n",
    "df[\"Reviews\"] = pd.to_numeric(df[\"Reviews\"]) \n",
    "df[\"Installs\"] = pd.to_numeric(df[\"Installs\"].str.replace(\"+\",\"\").str.replace(\",\",\"\"))"
   ]
  },
  {
   "cell_type": "markdown",
   "metadata": {},
   "source": [
    "#### Duplicates"
   ]
  },
  {
   "cell_type": "code",
   "execution_count": 5,
   "metadata": {},
   "outputs": [],
   "source": [
    "df.sort_values(by=\"Reviews\", ascending=False) # Sort reviews in descending order\n",
    "df.drop_duplicates(\"App\", inplace=True) # Remove all apps duplicates except the first occurence (row with greatest reviews)"
   ]
  },
  {
   "cell_type": "markdown",
   "metadata": {},
   "source": [
    "#### String cleaning"
   ]
  },
  {
   "cell_type": "code",
   "execution_count": 6,
   "metadata": {},
   "outputs": [],
   "source": [
    "## Investigate why all the Size's cannot be converted to the numeric data type\n",
    "df[\"Size test\"] = pd.to_numeric(df[\"Size\"], errors=\"coerce\") \n",
    "df.loc[df[\"Size test\"].isna()] # problems are the \"M\", \"Varies with device\", and \"k\"\n",
    "\n",
    "\n",
    "## Clean by removing characters and converting to bytes\n",
    "df.loc[df[\"Size\"].str.contains(\"M\"), \"Size\"] = (\n",
    "    pd.to_numeric(df.loc[df[\"Size\"].str.contains(\"M\"), \"Size\"].str.replace(\"M\", \"\"))\n",
    "    * (1024 * 1024)\n",
    ").astype(str)\n",
    "\n",
    "df.loc[df[\"Size\"].str.contains(\"k\"), \"Size\"] = (\n",
    "    pd.to_numeric(df.loc[df[\"Size\"].str.contains(\"k\"), \"Size\"].str.replace(\"k\", \"\"))\n",
    "    * (1024)\n",
    ").astype(str)\n",
    "\n",
    "df.loc[df[\"Size\"].str.contains(\"Varies with device\"), \"Size\"] = df.loc[\n",
    "    df[\"Size\"].str.contains(\"Varies with device\"), \"Size\"\n",
    "].str.replace(\"Varies with device\", \"0\")\n",
    "\n",
    "\n",
    "# Convert the column to numeric data type\n",
    "df[\"Size\"] = pd.to_numeric(df[\"Size\"])"
   ]
  },
  {
   "cell_type": "code",
   "execution_count": 7,
   "metadata": {},
   "outputs": [],
   "source": [
    "df[\"Category\"] = df[\"Category\"].str.replace(\"_\",\" \").str.capitalize()"
   ]
  },
  {
   "cell_type": "markdown",
   "metadata": {},
   "source": [
    "#### Final clean-up "
   ]
  },
  {
   "cell_type": "code",
   "execution_count": 8,
   "metadata": {},
   "outputs": [],
   "source": [
    "df.drop([\"Last Updated\",\"Current Ver\",\"Android Ver\", \"Size test\"], axis=1, inplace=True)\n",
    "df.rename(columns={\"Size\":\"Size (bytes)\"}, inplace=True)"
   ]
  },
  {
   "cell_type": "markdown",
   "metadata": {},
   "source": [
    "#### Cleaned data"
   ]
  },
  {
   "cell_type": "code",
   "execution_count": 9,
   "metadata": {},
   "outputs": [
    {
     "data": {
      "text/html": [
       "<div>\n",
       "<style scoped>\n",
       "    .dataframe tbody tr th:only-of-type {\n",
       "        vertical-align: middle;\n",
       "    }\n",
       "\n",
       "    .dataframe tbody tr th {\n",
       "        vertical-align: top;\n",
       "    }\n",
       "\n",
       "    .dataframe thead th {\n",
       "        text-align: right;\n",
       "    }\n",
       "</style>\n",
       "<table border=\"1\" class=\"dataframe\">\n",
       "  <thead>\n",
       "    <tr style=\"text-align: right;\">\n",
       "      <th></th>\n",
       "      <th>App</th>\n",
       "      <th>Category</th>\n",
       "      <th>Rating</th>\n",
       "      <th>Reviews</th>\n",
       "      <th>Size (bytes)</th>\n",
       "      <th>Installs</th>\n",
       "      <th>Type</th>\n",
       "      <th>Price</th>\n",
       "      <th>Content Rating</th>\n",
       "      <th>Genres</th>\n",
       "    </tr>\n",
       "  </thead>\n",
       "  <tbody>\n",
       "    <tr>\n",
       "      <th>0</th>\n",
       "      <td>Photo Editor &amp; Candy Camera &amp; Grid &amp; ScrapBook</td>\n",
       "      <td>Art and design</td>\n",
       "      <td>4.1</td>\n",
       "      <td>159</td>\n",
       "      <td>19922944.0</td>\n",
       "      <td>10000</td>\n",
       "      <td>Free</td>\n",
       "      <td>0.0</td>\n",
       "      <td>Everyone</td>\n",
       "      <td>Art &amp; Design</td>\n",
       "    </tr>\n",
       "    <tr>\n",
       "      <th>1</th>\n",
       "      <td>Coloring book moana</td>\n",
       "      <td>Art and design</td>\n",
       "      <td>3.9</td>\n",
       "      <td>967</td>\n",
       "      <td>14680064.0</td>\n",
       "      <td>500000</td>\n",
       "      <td>Free</td>\n",
       "      <td>0.0</td>\n",
       "      <td>Everyone</td>\n",
       "      <td>Art &amp; Design;Pretend Play</td>\n",
       "    </tr>\n",
       "    <tr>\n",
       "      <th>2</th>\n",
       "      <td>U Launcher Lite – FREE Live Cool Themes, Hide ...</td>\n",
       "      <td>Art and design</td>\n",
       "      <td>4.7</td>\n",
       "      <td>87510</td>\n",
       "      <td>9122611.2</td>\n",
       "      <td>5000000</td>\n",
       "      <td>Free</td>\n",
       "      <td>0.0</td>\n",
       "      <td>Everyone</td>\n",
       "      <td>Art &amp; Design</td>\n",
       "    </tr>\n",
       "    <tr>\n",
       "      <th>3</th>\n",
       "      <td>Sketch - Draw &amp; Paint</td>\n",
       "      <td>Art and design</td>\n",
       "      <td>4.5</td>\n",
       "      <td>215644</td>\n",
       "      <td>26214400.0</td>\n",
       "      <td>50000000</td>\n",
       "      <td>Free</td>\n",
       "      <td>0.0</td>\n",
       "      <td>Teen</td>\n",
       "      <td>Art &amp; Design</td>\n",
       "    </tr>\n",
       "    <tr>\n",
       "      <th>4</th>\n",
       "      <td>Pixel Draw - Number Art Coloring Book</td>\n",
       "      <td>Art and design</td>\n",
       "      <td>4.3</td>\n",
       "      <td>967</td>\n",
       "      <td>2936012.8</td>\n",
       "      <td>100000</td>\n",
       "      <td>Free</td>\n",
       "      <td>0.0</td>\n",
       "      <td>Everyone</td>\n",
       "      <td>Art &amp; Design;Creativity</td>\n",
       "    </tr>\n",
       "  </tbody>\n",
       "</table>\n",
       "</div>"
      ],
      "text/plain": [
       "                                                 App        Category  Rating  \\\n",
       "0     Photo Editor & Candy Camera & Grid & ScrapBook  Art and design     4.1   \n",
       "1                                Coloring book moana  Art and design     3.9   \n",
       "2  U Launcher Lite – FREE Live Cool Themes, Hide ...  Art and design     4.7   \n",
       "3                              Sketch - Draw & Paint  Art and design     4.5   \n",
       "4              Pixel Draw - Number Art Coloring Book  Art and design     4.3   \n",
       "\n",
       "   Reviews  Size (bytes)  Installs  Type  Price Content Rating  \\\n",
       "0      159    19922944.0     10000  Free    0.0       Everyone   \n",
       "1      967    14680064.0    500000  Free    0.0       Everyone   \n",
       "2    87510     9122611.2   5000000  Free    0.0       Everyone   \n",
       "3   215644    26214400.0  50000000  Free    0.0           Teen   \n",
       "4      967     2936012.8    100000  Free    0.0       Everyone   \n",
       "\n",
       "                      Genres  \n",
       "0               Art & Design  \n",
       "1  Art & Design;Pretend Play  \n",
       "2               Art & Design  \n",
       "3               Art & Design  \n",
       "4    Art & Design;Creativity  "
      ]
     },
     "execution_count": 9,
     "metadata": {},
     "output_type": "execute_result"
    }
   ],
   "source": [
    "df.head()"
   ]
  },
  {
   "cell_type": "markdown",
   "metadata": {},
   "source": [
    "## Analysis "
   ]
  },
  {
   "cell_type": "markdown",
   "metadata": {},
   "source": [
    "#### Key Q: Which categories have the greatest installs?"
   ]
  },
  {
   "cell_type": "code",
   "execution_count": 16,
   "metadata": {},
   "outputs": [
    {
     "data": {
      "text/plain": [
       "Category\n",
       "Communication    3.504215e+07\n",
       "Video players    2.409143e+07\n",
       "Social           2.296179e+07\n",
       "Entertainment    2.072216e+07\n",
       "Photography      1.654501e+07\n",
       "dtype: float64"
      ]
     },
     "execution_count": 16,
     "metadata": {},
     "output_type": "execute_result"
    }
   ],
   "source": [
    "df.groupby(\"Category\").apply(lambda cat: cat[\"Installs\"].mean()).sort_values(ascending=False).head()"
   ]
  },
  {
   "cell_type": "markdown",
   "metadata": {},
   "source": [
    "#### Key Q: Which categories have the greatest ratings?"
   ]
  },
  {
   "cell_type": "code",
   "execution_count": 13,
   "metadata": {},
   "outputs": [
    {
     "data": {
      "text/plain": [
       "Category\n",
       "Art and design         4.367861\n",
       "Events                 4.363178\n",
       "Education              4.362956\n",
       "Books and reference    4.308920\n",
       "Personalization        4.302292\n",
       "dtype: float64"
      ]
     },
     "execution_count": 13,
     "metadata": {},
     "output_type": "execute_result"
    }
   ],
   "source": [
    "rating_by_cat = df.groupby(\"Category\").apply(lambda cat: cat[\"Rating\"].mean()).sort_values(ascending=False).head()"
   ]
  }
 ],
 "metadata": {
  "kernelspec": {
   "display_name": "Python 3",
   "language": "python",
   "name": "python3"
  },
  "language_info": {
   "codemirror_mode": {
    "name": "ipython",
    "version": 3
   },
   "file_extension": ".py",
   "mimetype": "text/x-python",
   "name": "python",
   "nbconvert_exporter": "python",
   "pygments_lexer": "ipython3",
   "version": "3.8.3"
  }
 },
 "nbformat": 4,
 "nbformat_minor": 4
}
